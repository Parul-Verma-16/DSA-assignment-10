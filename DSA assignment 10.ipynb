{
 "cells": [
  {
   "cell_type": "markdown",
   "id": "ea85f9b9",
   "metadata": {},
   "source": [
    "## **Q1.** Given an integer `n`, return *`true` if it is a power of three. Otherwise, return `false`*. An integer `n` is a power of three, if there exists an integer `x` such that `n == 3x`."
   ]
  },
  {
   "cell_type": "code",
   "execution_count": 1,
   "id": "50e5de27",
   "metadata": {},
   "outputs": [
    {
     "name": "stdout",
     "output_type": "stream",
     "text": [
      "True\n",
      "False\n"
     ]
    }
   ],
   "source": [
    "def isPowerOfThree(n):\n",
    "    if n <= 0:\n",
    "        return False\n",
    "\n",
    "    while n % 3 == 0:\n",
    "        n = n // 3\n",
    "\n",
    "    return n == 1\n",
    "print(isPowerOfThree(27))  # Output: True\n",
    "print(isPowerOfThree(0))   # Output: False"
   ]
  },
  {
   "cell_type": "markdown",
   "id": "888dd5e3",
   "metadata": {},
   "source": [
    "## **Q2.** You have a list `arr` of all integers in the range `[1, n]` sorted in a strictly increasing order. Apply the following algorithm on `arr`:\n",
    "\n",
    "## - Starting from left to right, remove the first number and every other number afterward until you reach the end of the list.\n",
    "## - Repeat the previous step again, but this time from right to left, remove the rightmost number and every other number from the remaining numbers.\n",
    "## - Keep repeating the steps again, alternating left to right and right to left, until a single number remains.\n",
    "\n",
    "## Given the integer `n`, return *the last number that remains in* `arr`."
   ]
  },
  {
   "cell_type": "code",
   "execution_count": 2,
   "id": "16be7993",
   "metadata": {},
   "outputs": [
    {
     "name": "stdout",
     "output_type": "stream",
     "text": [
      "6\n"
     ]
    }
   ],
   "source": [
    "def lastRemaining(n):\n",
    "    # Base case: if n is 1, the last remaining number is 1\n",
    "    if n == 1:\n",
    "        return 1\n",
    "\n",
    "    # If n is even, the pattern alternates between odd numbers\n",
    "    # If n is odd, the pattern alternates between odd and even numbers\n",
    "    # In both cases, the next number after removal is 2 * (n // 2 + 1 - lastRemaining(n // 2))\n",
    "    return 2 * (n // 2 + 1 - lastRemaining(n // 2))\n",
    "print(lastRemaining(9))  # Output: 6"
   ]
  },
  {
   "cell_type": "markdown",
   "id": "29d4c821",
   "metadata": {},
   "source": [
    "## **Q3.** Given a set represented as a string, write a recursive code to print all subsets of it. The subsets can be printed in any order."
   ]
  },
  {
   "cell_type": "code",
   "execution_count": 3,
   "id": "58d0ad73",
   "metadata": {},
   "outputs": [
    {
     "name": "stdout",
     "output_type": "stream",
     "text": [
      "['', 'c', 'b', 'bc', 'a', 'ac', 'ab', 'abc']\n",
      "['', 'd', 'c', 'cd', 'b', 'bd', 'bc', 'bcd', 'a', 'ad', 'ac', 'acd', 'ab', 'abd', 'abc', 'abcd']\n"
     ]
    }
   ],
   "source": [
    "def generateSubsets(s):\n",
    "    # Base case: if the set is empty, return an empty subset\n",
    "    if len(s) == 0:\n",
    "        return ['']\n",
    "\n",
    "    # Get the first element of the set\n",
    "    first = s[0]\n",
    "\n",
    "    # Generate subsets for the remaining elements of the set\n",
    "    subsets = generateSubsets(s[1:])\n",
    "\n",
    "    # Combine the subsets by either including or excluding the first element\n",
    "    result = subsets + [first + subset for subset in subsets]\n",
    "\n",
    "    return result\n",
    "print(generateSubsets(\"abc\"))  # Output: ['', 'c', 'b', 'bc', 'a', 'ac', 'ab', 'abc']\n",
    "print(generateSubsets(\"abcd\"))  # Output: ['', 'd', 'c', 'cd', 'b', 'bd', 'bc', 'bcd', 'a', 'ad', 'ac', 'acd', 'ab', 'abd', 'abc', 'abcd']"
   ]
  },
  {
   "cell_type": "markdown",
   "id": "40e7d975",
   "metadata": {},
   "source": [
    "## **Q4.** Given a string calculate length of the string using recursion."
   ]
  },
  {
   "cell_type": "code",
   "execution_count": 4,
   "id": "28df3873",
   "metadata": {},
   "outputs": [
    {
     "name": "stdout",
     "output_type": "stream",
     "text": [
      "0\n",
      "5\n",
      "17\n"
     ]
    }
   ],
   "source": [
    "def calculateStringLength(s):\n",
    "    # Base case: if the string is empty, return 0\n",
    "    if s == '':\n",
    "        return 0\n",
    "\n",
    "    # Recursive case: calculate the length of the string without the first character\n",
    "    # and add 1 to it\n",
    "    return 1 + calculateStringLength(s[1:])\n",
    "print(calculateStringLength(\"\"))  # Output: 0\n",
    "print(calculateStringLength(\"Hello\"))  # Output: 5\n",
    "print(calculateStringLength(\"Python is awesome\"))  # Output: 17"
   ]
  },
  {
   "cell_type": "markdown",
   "id": "c3a3ab0d",
   "metadata": {},
   "source": [
    "## **Q5.** We are given a string S, we need to find count of all contiguous substrings starting and ending with same character."
   ]
  },
  {
   "cell_type": "code",
   "execution_count": 5,
   "id": "ee79f851",
   "metadata": {},
   "outputs": [
    {
     "name": "stdout",
     "output_type": "stream",
     "text": [
      "7\n",
      "4\n"
     ]
    }
   ],
   "source": [
    "def countContiguousSubstrings(S):\n",
    "    count = 0\n",
    "    for i in range(len(S)):\n",
    "        for j in range(i, len(S)):\n",
    "            if S[i] == S[j]:\n",
    "                count += 1\n",
    "    return count\n",
    "\n",
    "# Example usage\n",
    "print(countContiguousSubstrings(\"abcab\"))  # Output: 7\n",
    "print(countContiguousSubstrings(\"aba\"))  # Output: 4"
   ]
  },
  {
   "cell_type": "markdown",
   "id": "1c6a6f46",
   "metadata": {},
   "source": [
    "## **Q6.** The tower of Hanoi is a famous puzzle where we have three rods and N disks. The objective of the puzzle is to move the entire stack to another rod. You are given the number of discs N. Initially, these discs are in the rod 1. You need to print all the steps of discs movement so that all the discs reach the 3rd rod. Also, you need to find the total moves.Note: The discs are arranged such that the top disc is numbered 1 and the bottom-most disc is numbered N. Also, all the discs have different sizes and a bigger disc cannot be put on the top of a smaller disc. Refer the provided link to get a better clarity about the puzzle."
   ]
  },
  {
   "cell_type": "code",
   "execution_count": 6,
   "id": "e5fc24ff",
   "metadata": {},
   "outputs": [
    {
     "name": "stdout",
     "output_type": "stream",
     "text": [
      "move disk 1 from rod 1 to rod 2\n",
      "move disk 2 from rod 1 to rod 3\n",
      "move disk 1 from rod 2 to rod 3\n",
      "Total moves: 3\n"
     ]
    }
   ],
   "source": [
    "def towerOfHanoi(n, source, auxiliary, destination):\n",
    "    if n == 1:\n",
    "        print(\"move disk 1 from rod\", source, \"to rod\", destination)\n",
    "        return 1\n",
    "    else:\n",
    "        count = 0\n",
    "        count += towerOfHanoi(n-1, source, destination, auxiliary)\n",
    "        print(\"move disk\", n, \"from rod\", source, \"to rod\", destination)\n",
    "        count += 1\n",
    "        count += towerOfHanoi(n-1, auxiliary, source, destination)\n",
    "        return count\n",
    "\n",
    "# Example usage\n",
    "N = 2\n",
    "total_moves = towerOfHanoi(N, 1, 2, 3)\n",
    "print(\"Total moves:\", total_moves)"
   ]
  },
  {
   "cell_type": "markdown",
   "id": "ca4cf70a",
   "metadata": {},
   "source": [
    "##  **Q7.** Given a string str, the task is to print all the permutations of str. A permutation is an arrangement of all or part of a set of objects, with regard to the order of the arrangement. For instance, the words ‘bat’ and ‘tab’ represents two distinct permutation (or arrangements) of a similar three letter word."
   ]
  },
  {
   "cell_type": "code",
   "execution_count": 7,
   "id": "0a5f96f1",
   "metadata": {},
   "outputs": [
    {
     "name": "stdout",
     "output_type": "stream",
     "text": [
      "cd\n",
      "dc\n"
     ]
    }
   ],
   "source": [
    "def permutations(str):\n",
    "    # Convert the string to a list of characters\n",
    "    chars = list(str)\n",
    "    \n",
    "    # Helper function to generate permutations recursively\n",
    "    def generate(current, remaining):\n",
    "        if len(remaining) == 0:\n",
    "            # Base case: All characters used, so print the permutation\n",
    "            print(''.join(current))\n",
    "        else:\n",
    "            for i in range(len(remaining)):\n",
    "                # Choose the i-th character for the current position\n",
    "                current.append(remaining[i])\n",
    "                \n",
    "                # Generate permutations for the remaining characters\n",
    "                generate(current, remaining[:i] + remaining[i+1:])\n",
    "                \n",
    "                # Remove the i-th character from the current position for backtracking\n",
    "                current.pop()\n",
    "    \n",
    "    # Start the recursion with an empty current permutation and all characters as remaining\n",
    "    generate([], chars)\n",
    "\n",
    "# Example usage\n",
    "str = \"cd\"\n",
    "permutations(str)"
   ]
  },
  {
   "cell_type": "markdown",
   "id": "3d806969",
   "metadata": {},
   "source": [
    "##  **Q8.** Given a string, count total number of consonants in it. A consonant is an English alphabet character that is not vowel (a, e, i, o and u). Examples of constants are b, c, d, f, and g."
   ]
  },
  {
   "cell_type": "code",
   "execution_count": 8,
   "id": "ffba6979",
   "metadata": {},
   "outputs": [
    {
     "name": "stdout",
     "output_type": "stream",
     "text": [
      "3\n"
     ]
    }
   ],
   "source": [
    "def count_consonants(string):\n",
    "    consonants = \"bcdfghjklmnpqrstvwxyzBCDFGHJKLMNPQRSTVWXYZ\"\n",
    "    count = 0\n",
    "    for char in string:\n",
    "        if char in consonants:\n",
    "            count += 1\n",
    "    return count\n",
    "\n",
    "# Example usage\n",
    "string = \"abc de\"\n",
    "print(count_consonants(string))  # Output: 3"
   ]
  }
 ],
 "metadata": {
  "kernelspec": {
   "display_name": "Python 3 (ipykernel)",
   "language": "python",
   "name": "python3"
  },
  "language_info": {
   "codemirror_mode": {
    "name": "ipython",
    "version": 3
   },
   "file_extension": ".py",
   "mimetype": "text/x-python",
   "name": "python",
   "nbconvert_exporter": "python",
   "pygments_lexer": "ipython3",
   "version": "3.9.13"
  }
 },
 "nbformat": 4,
 "nbformat_minor": 5
}
